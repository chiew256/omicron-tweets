{
  "nbformat": 4,
  "nbformat_minor": 0,
  "metadata": {
    "colab": {
      "provenance": []
    },
    "kernelspec": {
      "name": "python3",
      "display_name": "Python 3"
    },
    "language_info": {
      "name": "python"
    }
  },
  "cells": [
    {
      "cell_type": "code",
      "execution_count": null,
      "metadata": {
        "colab": {
          "base_uri": "https://localhost:8080/"
        },
        "id": "dtzf_PyfTfms",
        "outputId": "edcfd0df-288e-4f8a-c1d9-1704a11096e9"
      },
      "outputs": [
        {
          "output_type": "stream",
          "name": "stdout",
          "text": [
            "Looking in indexes: https://pypi.org/simple, https://us-python.pkg.dev/colab-wheels/public/simple/\n",
            "Collecting demoji\n",
            "  Downloading demoji-1.1.0-py3-none-any.whl (42 kB)\n",
            "\u001b[2K     \u001b[90m━━━━━━━━━━━━━━━━━━━━━━━━━━━━━━━━━━━━━━━━\u001b[0m \u001b[32m42.9/42.9 kB\u001b[0m \u001b[31m3.7 MB/s\u001b[0m eta \u001b[36m0:00:00\u001b[0m\n",
            "\u001b[?25hInstalling collected packages: demoji\n",
            "Successfully installed demoji-1.1.0\n"
          ]
        }
      ],
      "source": [
        "pip install demoji"
      ]
    },
    {
      "cell_type": "code",
      "source": [
        "import pandas as pd\n",
        "import re\n",
        "import demoji\n",
        "import string\n",
        "import nltk\n",
        "nltk.download('punkt')\n",
        "from textblob import TextBlob"
      ],
      "metadata": {
        "colab": {
          "base_uri": "https://localhost:8080/"
        },
        "id": "Eptgx41wToxs",
        "outputId": "c1a430a6-54ea-4341-c9a0-2f6c524d19a8"
      },
      "execution_count": null,
      "outputs": [
        {
          "output_type": "stream",
          "name": "stderr",
          "text": [
            "[nltk_data] Downloading package punkt to /root/nltk_data...\n",
            "[nltk_data]   Unzipping tokenizers/punkt.zip.\n"
          ]
        }
      ]
    },
    {
      "cell_type": "code",
      "source": [
        "df = pd.read_csv('/content/omicron.csv')\n",
        "df.sample(5)"
      ],
      "metadata": {
        "colab": {
          "base_uri": "https://localhost:8080/",
          "height": 354
        },
        "id": "sLkbZq1lTp-B",
        "outputId": "59361047-4a06-400c-fd90-710c0889fd21"
      },
      "execution_count": null,
      "outputs": [
        {
          "output_type": "execute_result",
          "data": {
            "text/plain": [
              "                        id          user_name         user_location  \\\n",
              "12387  1496572008213413888      Sai Naveena K       Tirupati, India   \n",
              "3868   1493593159414292487          Tim White  The North of England   \n",
              "14454  1499118183772528641    Yan Leyfman, MD                   NaN   \n",
              "6773   1493981301484888069     Marty Freetage        Scottsdale, AZ   \n",
              "12491  1496533464476176397  TalkRadio 77 WABC          New York, NY   \n",
              "\n",
              "                                        user_description         user_created  \\\n",
              "12387  I hope that my impression about myself and you...  2012-12-21 17:21:08   \n",
              "3868   Data & Covid expert. Journalist by trade. Nowa...  2011-03-18 17:23:04   \n",
              "14454  #Medicine Researcher in #Oncology #COVID19 #Im...  2020-04-08 21:08:25   \n",
              "6773   During this pandemic of COVID-19, I want to pr...  2020-11-11 12:52:58   \n",
              "12491  The official account of TALKRADIO 77 WABC \\nNe...  2010-01-13 18:40:31   \n",
              "\n",
              "       user_followers  user_friends  user_favourites  user_verified  \\\n",
              "12387              63             2              160          False   \n",
              "3868            15704           570            28214          False   \n",
              "14454            1399          1569            26742          False   \n",
              "6773              222           358             1324          False   \n",
              "12491           22064           673             3380           True   \n",
              "\n",
              "                      date                                               text  \\\n",
              "12387  2022-02-23 19:45:46  Omicron variant silent killer, recovery takes ...   \n",
              "3868   2022-02-15 14:28:53  #Covid19 cases in #Latvia also down today for ...   \n",
              "14454  2022-03-02 20:23:21  Conclusion: Thus, #COVID19 #booster #immunizat...   \n",
              "6773   2022-02-16 16:11:13  Happy Hump Day! Here are today’s numbers for C...   \n",
              "12491  2022-02-23 17:12:36  US Vaccination Drive is Bottoming Out as Omicr...   \n",
              "\n",
              "                                                hashtags               source  \\\n",
              "12387                        ['Omicron', 'longrecovery']  Twitter for Android   \n",
              "3868                    ['Covid19', 'Latvia', 'Omicron']      Twitter Web App   \n",
              "14454  ['COVID19', 'booster', 'immunizations', 'omicr...      Twitter Web App   \n",
              "6773   ['coronavirus', 'vaccine', 'COVID19', 'breaking']      Twitter Web App   \n",
              "12491          ['77WABCRadio', 'vaccination', 'Omicron']      Twitter Web App   \n",
              "\n",
              "       retweets  favorites  is_retweet  \n",
              "12387         0          0       False  \n",
              "3868          1          3       False  \n",
              "14454         1          1       False  \n",
              "6773          0          3       False  \n",
              "12491         0          0       False  "
            ],
            "text/html": [
              "\n",
              "  <div id=\"df-9ce8b227-5d37-4b9d-b730-f12ca2fee1bd\">\n",
              "    <div class=\"colab-df-container\">\n",
              "      <div>\n",
              "<style scoped>\n",
              "    .dataframe tbody tr th:only-of-type {\n",
              "        vertical-align: middle;\n",
              "    }\n",
              "\n",
              "    .dataframe tbody tr th {\n",
              "        vertical-align: top;\n",
              "    }\n",
              "\n",
              "    .dataframe thead th {\n",
              "        text-align: right;\n",
              "    }\n",
              "</style>\n",
              "<table border=\"1\" class=\"dataframe\">\n",
              "  <thead>\n",
              "    <tr style=\"text-align: right;\">\n",
              "      <th></th>\n",
              "      <th>id</th>\n",
              "      <th>user_name</th>\n",
              "      <th>user_location</th>\n",
              "      <th>user_description</th>\n",
              "      <th>user_created</th>\n",
              "      <th>user_followers</th>\n",
              "      <th>user_friends</th>\n",
              "      <th>user_favourites</th>\n",
              "      <th>user_verified</th>\n",
              "      <th>date</th>\n",
              "      <th>text</th>\n",
              "      <th>hashtags</th>\n",
              "      <th>source</th>\n",
              "      <th>retweets</th>\n",
              "      <th>favorites</th>\n",
              "      <th>is_retweet</th>\n",
              "    </tr>\n",
              "  </thead>\n",
              "  <tbody>\n",
              "    <tr>\n",
              "      <th>12387</th>\n",
              "      <td>1496572008213413888</td>\n",
              "      <td>Sai Naveena K</td>\n",
              "      <td>Tirupati, India</td>\n",
              "      <td>I hope that my impression about myself and you...</td>\n",
              "      <td>2012-12-21 17:21:08</td>\n",
              "      <td>63</td>\n",
              "      <td>2</td>\n",
              "      <td>160</td>\n",
              "      <td>False</td>\n",
              "      <td>2022-02-23 19:45:46</td>\n",
              "      <td>Omicron variant silent killer, recovery takes ...</td>\n",
              "      <td>['Omicron', 'longrecovery']</td>\n",
              "      <td>Twitter for Android</td>\n",
              "      <td>0</td>\n",
              "      <td>0</td>\n",
              "      <td>False</td>\n",
              "    </tr>\n",
              "    <tr>\n",
              "      <th>3868</th>\n",
              "      <td>1493593159414292487</td>\n",
              "      <td>Tim White</td>\n",
              "      <td>The North of England</td>\n",
              "      <td>Data &amp; Covid expert. Journalist by trade. Nowa...</td>\n",
              "      <td>2011-03-18 17:23:04</td>\n",
              "      <td>15704</td>\n",
              "      <td>570</td>\n",
              "      <td>28214</td>\n",
              "      <td>False</td>\n",
              "      <td>2022-02-15 14:28:53</td>\n",
              "      <td>#Covid19 cases in #Latvia also down today for ...</td>\n",
              "      <td>['Covid19', 'Latvia', 'Omicron']</td>\n",
              "      <td>Twitter Web App</td>\n",
              "      <td>1</td>\n",
              "      <td>3</td>\n",
              "      <td>False</td>\n",
              "    </tr>\n",
              "    <tr>\n",
              "      <th>14454</th>\n",
              "      <td>1499118183772528641</td>\n",
              "      <td>Yan Leyfman, MD</td>\n",
              "      <td>NaN</td>\n",
              "      <td>#Medicine Researcher in #Oncology #COVID19 #Im...</td>\n",
              "      <td>2020-04-08 21:08:25</td>\n",
              "      <td>1399</td>\n",
              "      <td>1569</td>\n",
              "      <td>26742</td>\n",
              "      <td>False</td>\n",
              "      <td>2022-03-02 20:23:21</td>\n",
              "      <td>Conclusion: Thus, #COVID19 #booster #immunizat...</td>\n",
              "      <td>['COVID19', 'booster', 'immunizations', 'omicr...</td>\n",
              "      <td>Twitter Web App</td>\n",
              "      <td>1</td>\n",
              "      <td>1</td>\n",
              "      <td>False</td>\n",
              "    </tr>\n",
              "    <tr>\n",
              "      <th>6773</th>\n",
              "      <td>1493981301484888069</td>\n",
              "      <td>Marty Freetage</td>\n",
              "      <td>Scottsdale, AZ</td>\n",
              "      <td>During this pandemic of COVID-19, I want to pr...</td>\n",
              "      <td>2020-11-11 12:52:58</td>\n",
              "      <td>222</td>\n",
              "      <td>358</td>\n",
              "      <td>1324</td>\n",
              "      <td>False</td>\n",
              "      <td>2022-02-16 16:11:13</td>\n",
              "      <td>Happy Hump Day! Here are today’s numbers for C...</td>\n",
              "      <td>['coronavirus', 'vaccine', 'COVID19', 'breaking']</td>\n",
              "      <td>Twitter Web App</td>\n",
              "      <td>0</td>\n",
              "      <td>3</td>\n",
              "      <td>False</td>\n",
              "    </tr>\n",
              "    <tr>\n",
              "      <th>12491</th>\n",
              "      <td>1496533464476176397</td>\n",
              "      <td>TalkRadio 77 WABC</td>\n",
              "      <td>New York, NY</td>\n",
              "      <td>The official account of TALKRADIO 77 WABC \\nNe...</td>\n",
              "      <td>2010-01-13 18:40:31</td>\n",
              "      <td>22064</td>\n",
              "      <td>673</td>\n",
              "      <td>3380</td>\n",
              "      <td>True</td>\n",
              "      <td>2022-02-23 17:12:36</td>\n",
              "      <td>US Vaccination Drive is Bottoming Out as Omicr...</td>\n",
              "      <td>['77WABCRadio', 'vaccination', 'Omicron']</td>\n",
              "      <td>Twitter Web App</td>\n",
              "      <td>0</td>\n",
              "      <td>0</td>\n",
              "      <td>False</td>\n",
              "    </tr>\n",
              "  </tbody>\n",
              "</table>\n",
              "</div>\n",
              "      <button class=\"colab-df-convert\" onclick=\"convertToInteractive('df-9ce8b227-5d37-4b9d-b730-f12ca2fee1bd')\"\n",
              "              title=\"Convert this dataframe to an interactive table.\"\n",
              "              style=\"display:none;\">\n",
              "        \n",
              "  <svg xmlns=\"http://www.w3.org/2000/svg\" height=\"24px\"viewBox=\"0 0 24 24\"\n",
              "       width=\"24px\">\n",
              "    <path d=\"M0 0h24v24H0V0z\" fill=\"none\"/>\n",
              "    <path d=\"M18.56 5.44l.94 2.06.94-2.06 2.06-.94-2.06-.94-.94-2.06-.94 2.06-2.06.94zm-11 1L8.5 8.5l.94-2.06 2.06-.94-2.06-.94L8.5 2.5l-.94 2.06-2.06.94zm10 10l.94 2.06.94-2.06 2.06-.94-2.06-.94-.94-2.06-.94 2.06-2.06.94z\"/><path d=\"M17.41 7.96l-1.37-1.37c-.4-.4-.92-.59-1.43-.59-.52 0-1.04.2-1.43.59L10.3 9.45l-7.72 7.72c-.78.78-.78 2.05 0 2.83L4 21.41c.39.39.9.59 1.41.59.51 0 1.02-.2 1.41-.59l7.78-7.78 2.81-2.81c.8-.78.8-2.07 0-2.86zM5.41 20L4 18.59l7.72-7.72 1.47 1.35L5.41 20z\"/>\n",
              "  </svg>\n",
              "      </button>\n",
              "      \n",
              "  <style>\n",
              "    .colab-df-container {\n",
              "      display:flex;\n",
              "      flex-wrap:wrap;\n",
              "      gap: 12px;\n",
              "    }\n",
              "\n",
              "    .colab-df-convert {\n",
              "      background-color: #E8F0FE;\n",
              "      border: none;\n",
              "      border-radius: 50%;\n",
              "      cursor: pointer;\n",
              "      display: none;\n",
              "      fill: #1967D2;\n",
              "      height: 32px;\n",
              "      padding: 0 0 0 0;\n",
              "      width: 32px;\n",
              "    }\n",
              "\n",
              "    .colab-df-convert:hover {\n",
              "      background-color: #E2EBFA;\n",
              "      box-shadow: 0px 1px 2px rgba(60, 64, 67, 0.3), 0px 1px 3px 1px rgba(60, 64, 67, 0.15);\n",
              "      fill: #174EA6;\n",
              "    }\n",
              "\n",
              "    [theme=dark] .colab-df-convert {\n",
              "      background-color: #3B4455;\n",
              "      fill: #D2E3FC;\n",
              "    }\n",
              "\n",
              "    [theme=dark] .colab-df-convert:hover {\n",
              "      background-color: #434B5C;\n",
              "      box-shadow: 0px 1px 3px 1px rgba(0, 0, 0, 0.15);\n",
              "      filter: drop-shadow(0px 1px 2px rgba(0, 0, 0, 0.3));\n",
              "      fill: #FFFFFF;\n",
              "    }\n",
              "  </style>\n",
              "\n",
              "      <script>\n",
              "        const buttonEl =\n",
              "          document.querySelector('#df-9ce8b227-5d37-4b9d-b730-f12ca2fee1bd button.colab-df-convert');\n",
              "        buttonEl.style.display =\n",
              "          google.colab.kernel.accessAllowed ? 'block' : 'none';\n",
              "\n",
              "        async function convertToInteractive(key) {\n",
              "          const element = document.querySelector('#df-9ce8b227-5d37-4b9d-b730-f12ca2fee1bd');\n",
              "          const dataTable =\n",
              "            await google.colab.kernel.invokeFunction('convertToInteractive',\n",
              "                                                     [key], {});\n",
              "          if (!dataTable) return;\n",
              "\n",
              "          const docLinkHtml = 'Like what you see? Visit the ' +\n",
              "            '<a target=\"_blank\" href=https://colab.research.google.com/notebooks/data_table.ipynb>data table notebook</a>'\n",
              "            + ' to learn more about interactive tables.';\n",
              "          element.innerHTML = '';\n",
              "          dataTable['output_type'] = 'display_data';\n",
              "          await google.colab.output.renderOutput(dataTable, element);\n",
              "          const docLink = document.createElement('div');\n",
              "          docLink.innerHTML = docLinkHtml;\n",
              "          element.appendChild(docLink);\n",
              "        }\n",
              "      </script>\n",
              "    </div>\n",
              "  </div>\n",
              "  "
            ]
          },
          "metadata": {},
          "execution_count": 3
        }
      ]
    },
    {
      "cell_type": "code",
      "source": [
        "from nltk.corpus import stopwords\n",
        "nltk.download('stopwords')\n",
        "stop_words = set(stopwords.words('turkish'))\n",
        "print(stop_words)"
      ],
      "metadata": {
        "colab": {
          "base_uri": "https://localhost:8080/"
        },
        "id": "V4MK44trTrNi",
        "outputId": "ee2b451f-4dbb-4721-adcc-f6cbdf189dd6"
      },
      "execution_count": null,
      "outputs": [
        {
          "output_type": "stream",
          "name": "stdout",
          "text": [
            "{'mı', 'nereye', 'acaba', 'ile', 'bu', 'o', 'siz', 'biz', 'şey', 'nerde', 'hepsi', 'da', 'diye', 'biri', 'en', 'ya', 'nerede', 'belki', 'ne', 'niçin', 'kez', 'ise', 'eğer', 'de', 'aslında', 'gibi', 'için', 'tüm', 'niye', 'daha', 'veya', 'nasıl', 'ama', 'bazı', 'kim', 'sanki', 'birşey', 'hep', 'birkaç', 'her', 'mu', 'hem', 'yani', 'şu', 've', 'çok', 'hiç', 'defa', 'çünkü', 'neden', 'az', 'mü', 'ki'}\n"
          ]
        },
        {
          "output_type": "stream",
          "name": "stderr",
          "text": [
            "[nltk_data] Downloading package stopwords to /root/nltk_data...\n",
            "[nltk_data]   Unzipping corpora/stopwords.zip.\n"
          ]
        }
      ]
    },
    {
      "cell_type": "code",
      "source": [
        "def cleanTweet(tweet):\n",
        "    tweet = tweet.lower()\n",
        "    tweet = demoji.replace(tweet,\"\")\n",
        "    tweet = re.sub('\\n',' ',tweet)\n",
        "    tweet = re.sub(r'@\\w+|\\#','',tweet)\n",
        "    tweet = tweet.translate(str.maketrans(\"\",\"\",string.punctuation))\n",
        "    tweet = re.sub(r\"http\\s+|www\\S+|https\\S+\",\"\",tweet,flags=re.MULTILINE) # remove link\n",
        "    filtered_words = [word for word in TextBlob(tweet).words if word not in stop_words]\n",
        "    return \" \".join(filtered_words)"
      ],
      "metadata": {
        "id": "knFVXjysTsX5"
      },
      "execution_count": null,
      "outputs": []
    },
    {
      "cell_type": "code",
      "source": [
        "df['cleanTweet'] = df['text'].map(cleanTweet)\n",
        "df.sample(5)"
      ],
      "metadata": {
        "colab": {
          "base_uri": "https://localhost:8080/",
          "height": 423
        },
        "id": "R8VMw430Ttfp",
        "outputId": "04eb7191-a5ce-405f-ab77-88d9a5aee036"
      },
      "execution_count": null,
      "outputs": [
        {
          "output_type": "execute_result",
          "data": {
            "text/plain": [
              "                        id         user_name       user_location  \\\n",
              "14073  1496006663434047491    Rakyat Merdeka                 NaN   \n",
              "6679   1493995786165571586     Nathan Joyner     Los Angeles, CA   \n",
              "13707  1496119910703017986   Smbat Gevorgyan                 NaN   \n",
              "15674  1500835862766104579  Patrizia Roberto   Glasgow, Scotland   \n",
              "7640   1494915280010547202     𝙽𝚊𝚝𝚎 𝙲𝚘𝚌𝚑𝚛𝚊𝚗𝚎  Luna, Aitken Basin   \n",
              "\n",
              "                                        user_description         user_created  \\\n",
              "14073               official akun Rakyat Merdeka Digital  2021-12-23 13:39:54   \n",
              "6679   Global Venture Captial and Private Equity/Busi...  2015-05-18 20:52:29   \n",
              "13707                      PhD in Medical Nanotechnology  2019-05-07 06:41:47   \n",
              "15674  Mum, daughter, sister, friend, Scottish indepe...  2012-03-01 21:57:45   \n",
              "7640   \"Ex astris ad mortem.\" I acknowledge tradition...  2008-11-28 22:39:28   \n",
              "\n",
              "       user_followers  user_friends  user_favourites  user_verified  \\\n",
              "14073              16             3                0          False   \n",
              "6679               57            11              816          False   \n",
              "13707              65            89              499          False   \n",
              "15674            1204          1742            21915          False   \n",
              "7640            10528          9932             7589           True   \n",
              "\n",
              "                      date                                               text  \\\n",
              "14073  2022-02-22 06:19:17  Menhan Malaysia Hishammuddin Hussein Positif C...   \n",
              "6679   2022-02-16 17:08:47  Daily Confirmed Covid Cases per 1K Population ...   \n",
              "13707  2022-02-22 13:49:17  The #Omicron wave (the last peak in the graph)...   \n",
              "15674  2022-03-07 14:08:48  Is everyone registering their positive lateral...   \n",
              "7640   2022-02-19 06:02:31  👀 \\n\\nDon’t let anyone minimise how you feel. ...   \n",
              "\n",
              "                                                hashtags               source  \\\n",
              "14073  ['Malaysia', 'Omicron', 'OmicronVariant', 'Cor...  Twitter for Android   \n",
              "6679                                                 NaN       smcapplication   \n",
              "13707                             ['Omicron', 'Armenia']      Twitter Web App   \n",
              "15674                                                NaN   Twitter for iPhone   \n",
              "7640                     ['OmicronIsNotMild', 'Omicron']   Twitter for iPhone   \n",
              "\n",
              "       retweets  favorites  is_retweet  \\\n",
              "14073         4          4       False   \n",
              "6679          1          1       False   \n",
              "13707         0          3       False   \n",
              "15674         1          0       False   \n",
              "7640          3          6       False   \n",
              "\n",
              "                                              cleanTweet  \n",
              "14073  menhan malaysia hishammuddin hussein positif c...  \n",
              "6679   daily confirmed covid cases per 1k population ...  \n",
              "13707  the omicron wave the last peak in the graph is...  \n",
              "15674  is everyone registering their positive lateral...  \n",
              "7640   don ’ t let anyone minimise how you feel ever ...  "
            ],
            "text/html": [
              "\n",
              "  <div id=\"df-395a1ded-952a-4538-990e-56708cbd024e\">\n",
              "    <div class=\"colab-df-container\">\n",
              "      <div>\n",
              "<style scoped>\n",
              "    .dataframe tbody tr th:only-of-type {\n",
              "        vertical-align: middle;\n",
              "    }\n",
              "\n",
              "    .dataframe tbody tr th {\n",
              "        vertical-align: top;\n",
              "    }\n",
              "\n",
              "    .dataframe thead th {\n",
              "        text-align: right;\n",
              "    }\n",
              "</style>\n",
              "<table border=\"1\" class=\"dataframe\">\n",
              "  <thead>\n",
              "    <tr style=\"text-align: right;\">\n",
              "      <th></th>\n",
              "      <th>id</th>\n",
              "      <th>user_name</th>\n",
              "      <th>user_location</th>\n",
              "      <th>user_description</th>\n",
              "      <th>user_created</th>\n",
              "      <th>user_followers</th>\n",
              "      <th>user_friends</th>\n",
              "      <th>user_favourites</th>\n",
              "      <th>user_verified</th>\n",
              "      <th>date</th>\n",
              "      <th>text</th>\n",
              "      <th>hashtags</th>\n",
              "      <th>source</th>\n",
              "      <th>retweets</th>\n",
              "      <th>favorites</th>\n",
              "      <th>is_retweet</th>\n",
              "      <th>cleanTweet</th>\n",
              "    </tr>\n",
              "  </thead>\n",
              "  <tbody>\n",
              "    <tr>\n",
              "      <th>14073</th>\n",
              "      <td>1496006663434047491</td>\n",
              "      <td>Rakyat Merdeka</td>\n",
              "      <td>NaN</td>\n",
              "      <td>official akun Rakyat Merdeka Digital</td>\n",
              "      <td>2021-12-23 13:39:54</td>\n",
              "      <td>16</td>\n",
              "      <td>3</td>\n",
              "      <td>0</td>\n",
              "      <td>False</td>\n",
              "      <td>2022-02-22 06:19:17</td>\n",
              "      <td>Menhan Malaysia Hishammuddin Hussein Positif C...</td>\n",
              "      <td>['Malaysia', 'Omicron', 'OmicronVariant', 'Cor...</td>\n",
              "      <td>Twitter for Android</td>\n",
              "      <td>4</td>\n",
              "      <td>4</td>\n",
              "      <td>False</td>\n",
              "      <td>menhan malaysia hishammuddin hussein positif c...</td>\n",
              "    </tr>\n",
              "    <tr>\n",
              "      <th>6679</th>\n",
              "      <td>1493995786165571586</td>\n",
              "      <td>Nathan Joyner</td>\n",
              "      <td>Los Angeles, CA</td>\n",
              "      <td>Global Venture Captial and Private Equity/Busi...</td>\n",
              "      <td>2015-05-18 20:52:29</td>\n",
              "      <td>57</td>\n",
              "      <td>11</td>\n",
              "      <td>816</td>\n",
              "      <td>False</td>\n",
              "      <td>2022-02-16 17:08:47</td>\n",
              "      <td>Daily Confirmed Covid Cases per 1K Population ...</td>\n",
              "      <td>NaN</td>\n",
              "      <td>smcapplication</td>\n",
              "      <td>1</td>\n",
              "      <td>1</td>\n",
              "      <td>False</td>\n",
              "      <td>daily confirmed covid cases per 1k population ...</td>\n",
              "    </tr>\n",
              "    <tr>\n",
              "      <th>13707</th>\n",
              "      <td>1496119910703017986</td>\n",
              "      <td>Smbat Gevorgyan</td>\n",
              "      <td>NaN</td>\n",
              "      <td>PhD in Medical Nanotechnology</td>\n",
              "      <td>2019-05-07 06:41:47</td>\n",
              "      <td>65</td>\n",
              "      <td>89</td>\n",
              "      <td>499</td>\n",
              "      <td>False</td>\n",
              "      <td>2022-02-22 13:49:17</td>\n",
              "      <td>The #Omicron wave (the last peak in the graph)...</td>\n",
              "      <td>['Omicron', 'Armenia']</td>\n",
              "      <td>Twitter Web App</td>\n",
              "      <td>0</td>\n",
              "      <td>3</td>\n",
              "      <td>False</td>\n",
              "      <td>the omicron wave the last peak in the graph is...</td>\n",
              "    </tr>\n",
              "    <tr>\n",
              "      <th>15674</th>\n",
              "      <td>1500835862766104579</td>\n",
              "      <td>Patrizia Roberto</td>\n",
              "      <td>Glasgow, Scotland</td>\n",
              "      <td>Mum, daughter, sister, friend, Scottish indepe...</td>\n",
              "      <td>2012-03-01 21:57:45</td>\n",
              "      <td>1204</td>\n",
              "      <td>1742</td>\n",
              "      <td>21915</td>\n",
              "      <td>False</td>\n",
              "      <td>2022-03-07 14:08:48</td>\n",
              "      <td>Is everyone registering their positive lateral...</td>\n",
              "      <td>NaN</td>\n",
              "      <td>Twitter for iPhone</td>\n",
              "      <td>1</td>\n",
              "      <td>0</td>\n",
              "      <td>False</td>\n",
              "      <td>is everyone registering their positive lateral...</td>\n",
              "    </tr>\n",
              "    <tr>\n",
              "      <th>7640</th>\n",
              "      <td>1494915280010547202</td>\n",
              "      <td>𝙽𝚊𝚝𝚎 𝙲𝚘𝚌𝚑𝚛𝚊𝚗𝚎</td>\n",
              "      <td>Luna, Aitken Basin</td>\n",
              "      <td>\"Ex astris ad mortem.\" I acknowledge tradition...</td>\n",
              "      <td>2008-11-28 22:39:28</td>\n",
              "      <td>10528</td>\n",
              "      <td>9932</td>\n",
              "      <td>7589</td>\n",
              "      <td>True</td>\n",
              "      <td>2022-02-19 06:02:31</td>\n",
              "      <td>👀 \\n\\nDon’t let anyone minimise how you feel. ...</td>\n",
              "      <td>['OmicronIsNotMild', 'Omicron']</td>\n",
              "      <td>Twitter for iPhone</td>\n",
              "      <td>3</td>\n",
              "      <td>6</td>\n",
              "      <td>False</td>\n",
              "      <td>don ’ t let anyone minimise how you feel ever ...</td>\n",
              "    </tr>\n",
              "  </tbody>\n",
              "</table>\n",
              "</div>\n",
              "      <button class=\"colab-df-convert\" onclick=\"convertToInteractive('df-395a1ded-952a-4538-990e-56708cbd024e')\"\n",
              "              title=\"Convert this dataframe to an interactive table.\"\n",
              "              style=\"display:none;\">\n",
              "        \n",
              "  <svg xmlns=\"http://www.w3.org/2000/svg\" height=\"24px\"viewBox=\"0 0 24 24\"\n",
              "       width=\"24px\">\n",
              "    <path d=\"M0 0h24v24H0V0z\" fill=\"none\"/>\n",
              "    <path d=\"M18.56 5.44l.94 2.06.94-2.06 2.06-.94-2.06-.94-.94-2.06-.94 2.06-2.06.94zm-11 1L8.5 8.5l.94-2.06 2.06-.94-2.06-.94L8.5 2.5l-.94 2.06-2.06.94zm10 10l.94 2.06.94-2.06 2.06-.94-2.06-.94-.94-2.06-.94 2.06-2.06.94z\"/><path d=\"M17.41 7.96l-1.37-1.37c-.4-.4-.92-.59-1.43-.59-.52 0-1.04.2-1.43.59L10.3 9.45l-7.72 7.72c-.78.78-.78 2.05 0 2.83L4 21.41c.39.39.9.59 1.41.59.51 0 1.02-.2 1.41-.59l7.78-7.78 2.81-2.81c.8-.78.8-2.07 0-2.86zM5.41 20L4 18.59l7.72-7.72 1.47 1.35L5.41 20z\"/>\n",
              "  </svg>\n",
              "      </button>\n",
              "      \n",
              "  <style>\n",
              "    .colab-df-container {\n",
              "      display:flex;\n",
              "      flex-wrap:wrap;\n",
              "      gap: 12px;\n",
              "    }\n",
              "\n",
              "    .colab-df-convert {\n",
              "      background-color: #E8F0FE;\n",
              "      border: none;\n",
              "      border-radius: 50%;\n",
              "      cursor: pointer;\n",
              "      display: none;\n",
              "      fill: #1967D2;\n",
              "      height: 32px;\n",
              "      padding: 0 0 0 0;\n",
              "      width: 32px;\n",
              "    }\n",
              "\n",
              "    .colab-df-convert:hover {\n",
              "      background-color: #E2EBFA;\n",
              "      box-shadow: 0px 1px 2px rgba(60, 64, 67, 0.3), 0px 1px 3px 1px rgba(60, 64, 67, 0.15);\n",
              "      fill: #174EA6;\n",
              "    }\n",
              "\n",
              "    [theme=dark] .colab-df-convert {\n",
              "      background-color: #3B4455;\n",
              "      fill: #D2E3FC;\n",
              "    }\n",
              "\n",
              "    [theme=dark] .colab-df-convert:hover {\n",
              "      background-color: #434B5C;\n",
              "      box-shadow: 0px 1px 3px 1px rgba(0, 0, 0, 0.15);\n",
              "      filter: drop-shadow(0px 1px 2px rgba(0, 0, 0, 0.3));\n",
              "      fill: #FFFFFF;\n",
              "    }\n",
              "  </style>\n",
              "\n",
              "      <script>\n",
              "        const buttonEl =\n",
              "          document.querySelector('#df-395a1ded-952a-4538-990e-56708cbd024e button.colab-df-convert');\n",
              "        buttonEl.style.display =\n",
              "          google.colab.kernel.accessAllowed ? 'block' : 'none';\n",
              "\n",
              "        async function convertToInteractive(key) {\n",
              "          const element = document.querySelector('#df-395a1ded-952a-4538-990e-56708cbd024e');\n",
              "          const dataTable =\n",
              "            await google.colab.kernel.invokeFunction('convertToInteractive',\n",
              "                                                     [key], {});\n",
              "          if (!dataTable) return;\n",
              "\n",
              "          const docLinkHtml = 'Like what you see? Visit the ' +\n",
              "            '<a target=\"_blank\" href=https://colab.research.google.com/notebooks/data_table.ipynb>data table notebook</a>'\n",
              "            + ' to learn more about interactive tables.';\n",
              "          element.innerHTML = '';\n",
              "          dataTable['output_type'] = 'display_data';\n",
              "          await google.colab.output.renderOutput(dataTable, element);\n",
              "          const docLink = document.createElement('div');\n",
              "          docLink.innerHTML = docLinkHtml;\n",
              "          element.appendChild(docLink);\n",
              "        }\n",
              "      </script>\n",
              "    </div>\n",
              "  </div>\n",
              "  "
            ]
          },
          "metadata": {},
          "execution_count": 6
        }
      ]
    },
    {
      "cell_type": "code",
      "source": [
        "import gensim\n",
        "from gensim.utils import simple_preprocess"
      ],
      "metadata": {
        "id": "6NCBsKbFTugZ"
      },
      "execution_count": null,
      "outputs": []
    },
    {
      "cell_type": "code",
      "source": [
        "def sent_to_words(sentences):\n",
        "    for sentence in sentences:\n",
        "        yield(gensim.utils.simple_preprocess(str(sentence), deacc=True))  # deacc=True removes punctuations"
      ],
      "metadata": {
        "id": "JjEFtxAsTvy-"
      },
      "execution_count": null,
      "outputs": []
    },
    {
      "cell_type": "code",
      "source": [
        "data = df['cleanTweet'].to_list()\n",
        "data_words = list(sent_to_words(data))"
      ],
      "metadata": {
        "id": "4Vj4EGbxT0LY"
      },
      "execution_count": null,
      "outputs": []
    },
    {
      "cell_type": "code",
      "source": [
        "print(data_words[:1][0][:30])"
      ],
      "metadata": {
        "colab": {
          "base_uri": "https://localhost:8080/"
        },
        "id": "YCOLrAHiT0z0",
        "outputId": "ac4eaa80-2035-471c-8959-0a3580c06baf"
      },
      "execution_count": null,
      "outputs": [
        {
          "output_type": "stream",
          "name": "stdout",
          "text": [
            "['daily', 'us', 'confirmed', 'covid', 'cases', 'by', 'county', 'for', 'me', 'covid', 'insights', 'from', 'our', 'analytics', 'team', 'and', 'usafacts']\n"
          ]
        }
      ]
    },
    {
      "cell_type": "code",
      "source": [
        "# Build the bigram and trigram models\n",
        "bigram = gensim.models.Phrases(data_words, min_count=5, threshold=100) # higher threshold fewer phrases.\n",
        "trigram = gensim.models.Phrases(bigram[data_words], threshold=100)\n",
        "\n",
        "# Faster way to get a sentence clubbed as a trigram/bigram\n",
        "bigram_mod = gensim.models.phrases.Phraser(bigram)\n",
        "trigram_mod = gensim.models.phrases.Phraser(trigram)"
      ],
      "metadata": {
        "id": "_pIxq8lBT2w5"
      },
      "execution_count": null,
      "outputs": []
    },
    {
      "cell_type": "code",
      "source": [
        "import gensim.corpora as corpora\n",
        "\n",
        "# Create Dictionary\n",
        "id2word = corpora.Dictionary(data_words)\n",
        "\n",
        "# Create Corpus\n",
        "texts = data_words\n",
        "\n",
        "# Term Document Frequency\n",
        "corpus = [id2word.doc2bow(text) for text in texts]\n",
        "\n",
        "# View\n",
        "print(corpus[:1][0][:30])"
      ],
      "metadata": {
        "colab": {
          "base_uri": "https://localhost:8080/"
        },
        "id": "vATq-_kcT3ut",
        "outputId": "0683e4cf-db12-471e-a588-0ca1b595302d"
      },
      "execution_count": null,
      "outputs": [
        {
          "output_type": "stream",
          "name": "stdout",
          "text": [
            "[(0, 1), (1, 1), (2, 1), (3, 1), (4, 1), (5, 1), (6, 2), (7, 1), (8, 1), (9, 1), (10, 1), (11, 1), (12, 1), (13, 1), (14, 1), (15, 1)]\n"
          ]
        }
      ]
    },
    {
      "cell_type": "code",
      "source": [
        "# Build LDA model\n",
        "lda_model = gensim.models.LdaMulticore(corpus=corpus,\n",
        "                                       id2word=id2word,\n",
        "                                       num_topics=10,\n",
        "                                       random_state=100,\n",
        "                                       chunksize=100,\n",
        "                                       passes=10,\n",
        "                                       per_word_topics=True)"
      ],
      "metadata": {
        "id": "0nIY563gT5Do"
      },
      "execution_count": null,
      "outputs": []
    },
    {
      "cell_type": "code",
      "source": [
        "from pprint import pprint\n",
        "# Print the Keyword in the 10 topics\n",
        "pprint(lda_model.print_topics())\n",
        "doc_lda = lda_model[corpus]"
      ],
      "metadata": {
        "colab": {
          "base_uri": "https://localhost:8080/"
        },
        "id": "SxE45zEgT536",
        "outputId": "80d0f9ca-141e-410f-a1cb-f1387e811e7f"
      },
      "execution_count": null,
      "outputs": [
        {
          "output_type": "stream",
          "name": "stdout",
          "text": [
            "[(0,\n",
            "  '0.209*\"cases\" + 0.129*\"covid\" + 0.111*\"new\" + 0.036*\"in\" + 0.030*\"india\" + '\n",
            "  '0.028*\"today\" + 0.027*\"total\" + 0.026*\"death\" + 0.022*\"daily\" + '\n",
            "  '0.020*\"hours\"'),\n",
            " (1,\n",
            "  '0.059*\"how\" + 0.044*\"vaccine\" + 0.042*\"against\" + 0.037*\"he\" + 0.035*\"to\" + '\n",
            "  '0.034*\"news\" + 0.028*\"would\" + 0.028*\"infection\" + 0.015*\"antibody\" + '\n",
            "  '0.014*\"me\"'),\n",
            " (2,\n",
            "  '0.060*\"going\" + 0.027*\"rate\" + 0.026*\"here\" + 0.023*\"less\" + 0.021*\"does\" + '\n",
            "  '0.019*\"hospitalization\" + 0.018*\"while\" + 0.014*\"remember\" + 0.014*\"doesnt\" '\n",
            "  '+ 0.014*\"watch\"'),\n",
            " (3,\n",
            "  '0.083*\"omicron\" + 0.051*\"of\" + 0.048*\"the\" + 0.044*\"ba\" + 0.041*\"covid\" + '\n",
            "  '0.038*\"in\" + 0.021*\"on\" + 0.021*\"more\" + 0.020*\"variant\" + 0.017*\"and\"'),\n",
            " (4,\n",
            "  '0.035*\"or\" + 0.027*\"omicron\" + 0.026*\"covid\" + 0.022*\"with\" + 0.022*\"your\" '\n",
            "  '+ 0.021*\"be\" + 0.020*\"study\" + 0.020*\"two\" + 0.016*\"can\" + 0.016*\"may\"'),\n",
            " (5,\n",
            "  '0.064*\"you\" + 0.062*\"to\" + 0.054*\"it\" + 0.038*\"that\" + 0.032*\"will\" + '\n",
            "  '0.026*\"don\" + 0.024*\"up\" + 0.024*\"omicron\" + 0.022*\"just\" + 0.021*\"give\"'),\n",
            " (6,\n",
            "  '0.037*\"deaths\" + 0.036*\"day\" + 0.024*\"march\" + 0.022*\"time\" + 0.021*\"on\" + '\n",
            "  '0.019*\"hongkong\" + 0.018*\"coronavirus\" + 0.018*\"only\" + 0.017*\"keep\" + '\n",
            "  '0.016*\"new\"'),\n",
            " (7,\n",
            "  '0.088*\"for\" + 0.072*\"covid\" + 0.061*\"come\" + 0.060*\"our\" + 0.046*\"from\" + '\n",
            "  '0.042*\"by\" + 0.035*\"population\" + 0.033*\"deaths\" + 0.029*\"and\" + '\n",
            "  '0.025*\"china\"'),\n",
            " (8,\n",
            "  '0.094*\"the\" + 0.046*\"omicron\" + 0.041*\"covid\" + 0.039*\"of\" + 0.036*\"to\" + '\n",
            "  '0.032*\"is\" + 0.032*\"in\" + 0.031*\"and\" + 0.018*\"for\" + 0.015*\"this\"'),\n",
            " (9,\n",
            "  '0.047*\"update\" + 0.040*\"omicron\" + 0.033*\"mask\" + 0.028*\"amp\" + '\n",
            "  '0.024*\"thailand\" + 0.023*\"gt\" + 0.023*\"vaccination\" + 0.019*\"hong\" + '\n",
            "  '0.019*\"uk\" + 0.016*\"kong\"')]\n"
          ]
        }
      ]
    },
    {
      "cell_type": "code",
      "source": [
        "from gensim.models import CoherenceModel\n",
        "\n",
        "# Compute Coherence Score\n",
        "coherence_model_lda = CoherenceModel(model=lda_model, texts=data_words, dictionary=id2word, coherence='c_v')\n",
        "coherence_lda = coherence_model_lda.get_coherence()\n",
        "print('Coherence Score: ', coherence_lda)"
      ],
      "metadata": {
        "colab": {
          "base_uri": "https://localhost:8080/"
        },
        "id": "rvAmLrcBT6_9",
        "outputId": "6187730e-6125-4d2b-d0d7-e85db2b4c509"
      },
      "execution_count": null,
      "outputs": [
        {
          "output_type": "stream",
          "name": "stdout",
          "text": [
            "Coherence Score:  0.40453933603176423\n"
          ]
        }
      ]
    },
    {
      "cell_type": "code",
      "source": [
        "# supporting function\n",
        "def compute_coherence_values(corpus, dictionary, k, a, b):\n",
        "\n",
        "    lda_model = gensim.models.LdaMulticore(corpus=corpus,\n",
        "                                           id2word=dictionary,\n",
        "                                           num_topics=k,\n",
        "                                           random_state=100,\n",
        "                                           chunksize=100,\n",
        "                                           passes=10,\n",
        "                                           alpha=a,\n",
        "                                           eta=b)\n",
        "\n",
        "    coherence_model_lda = CoherenceModel(model=lda_model, texts=data_words, dictionary=id2word, coherence='c_v')\n",
        "\n",
        "    return coherence_model_lda.get_coherence()"
      ],
      "metadata": {
        "id": "jeLwPOiRT8Mq"
      },
      "execution_count": null,
      "outputs": []
    },
    {
      "cell_type": "code",
      "source": [
        "import numpy as np\n",
        "import tqdm\n",
        "\n",
        "grid = {}\n",
        "grid['Validation_Set'] = {}\n",
        "\n",
        "# Topics range\n",
        "min_topics = 2\n",
        "max_topics = 11\n",
        "step_size = 1\n",
        "topics_range = range(min_topics, max_topics, step_size)\n",
        "\n",
        "# Alpha parameter\n",
        "alpha = list(np.arange(0.01, 1, 0.3))\n",
        "alpha.append('symmetric')\n",
        "alpha.append('asymmetric')\n",
        "\n",
        "# Beta parameter\n",
        "beta = list(np.arange(0.01, 1, 0.3))\n",
        "beta.append('symmetric')\n",
        "\n",
        "# Validation sets\n",
        "num_of_docs = len(corpus)\n",
        "corpus_sets = [gensim.utils.ClippedCorpus(corpus, int(num_of_docs*0.75)),\n",
        "               corpus]\n",
        "\n",
        "corpus_title = ['75% Corpus', '100% Corpus']\n",
        "\n",
        "model_results = {'Validation_Set': [],\n",
        "                 'Topics': [],\n",
        "                 'Alpha': [],\n",
        "                 'Beta': [],\n",
        "                 'Coherence': []\n",
        "                }"
      ],
      "metadata": {
        "id": "3aiWWM7mT9YT"
      },
      "execution_count": null,
      "outputs": []
    },
    {
      "cell_type": "code",
      "source": [
        "num_topics = 8\n",
        "\n",
        "lda_model = gensim.models.LdaMulticore(corpus=corpus,\n",
        "                                           id2word=id2word,\n",
        "                                           num_topics=num_topics,\n",
        "                                           random_state=100,\n",
        "                                           chunksize=100,\n",
        "                                           passes=10,\n",
        "                                           alpha=0.01,\n",
        "                                           eta=0.9)"
      ],
      "metadata": {
        "id": "zKU5cqnqT-S6"
      },
      "execution_count": null,
      "outputs": []
    },
    {
      "cell_type": "code",
      "source": [
        "from sklearn.decomposition import LatentDirichletAllocation as LDA\n",
        "from sklearn.feature_extraction.text import CountVectorizer\n",
        "\n",
        "tf_vectorizer = CountVectorizer(max_df=0.95, min_df=2, max_features=10000)\n",
        "tf = tf_vectorizer.fit_transform(data)\n",
        "tf_feature_names = tf_vectorizer.get_feature_names_out()"
      ],
      "metadata": {
        "id": "5FKheTnIT_Ps"
      },
      "execution_count": null,
      "outputs": []
    },
    {
      "cell_type": "code",
      "source": [
        "lda = LDA(n_components=30, max_iter=5, learning_method='online', learning_offset=50.,random_state=0).fit(tf)"
      ],
      "metadata": {
        "id": "lF2byLjdT__q"
      },
      "execution_count": null,
      "outputs": []
    },
    {
      "cell_type": "code",
      "source": [
        "def display_topics(model, feature_names, no_top_words):\n",
        "    for topic_idx, topic in enumerate(model.components_):\n",
        "        print(\"Topic %d:\" % (topic_idx))\n",
        "        print(\" \".join([feature_names[i]\n",
        "                        for i in topic.argsort()[:-no_top_words - 1:-1]]))\n",
        "display_topics(lda,tf_feature_names,20)"
      ],
      "metadata": {
        "colab": {
          "base_uri": "https://localhost:8080/"
        },
        "id": "__2VJBB4UA0H",
        "outputId": "40d082f6-07c6-4dde-a9b1-00af0c8bb751"
      },
      "execution_count": null,
      "outputs": [
        {
          "output_type": "stream",
          "name": "stdout",
          "text": [
            "Topic 0:\n",
            "vaccine antibody 2021 to original living december putin backgroundimmunity friend for vs coverage critical 95 omicronspecific teachers becomes cbc protest\n",
            "Topic 1:\n",
            "against out infection omicron and vaccines protection sarscov2 through vaccination previous find head boosters check closed worldwide efficacy reduce doesnt\n",
            "Topic 2:\n",
            "miyapur udbhava swabs radioactive technetium cevicas shri ba2h78y board memory kphb 212 omicronba2 abledsupremacys bell oxford par udbhavahospitals markedly noncovid\n",
            "Topic 3:\n",
            "study by omicron infections booster news good to covid19 say between not are effectiveness spreading enough am use info estimates\n",
            "Topic 4:\n",
            "live time looks dying working restrictions up qingdao email went freedom ended with canadahasfallen mail premier summer fifth employees settings\n",
            "Topic 5:\n",
            "food department games continuing cuba npr st explain health covid19nz mobile families cm kirby paying praying floral clustering gazpacho cut\n",
            "Topic 6:\n",
            "emergency paypal public hollandfrance33com helpp coinbase im london34nice order billgates 70 wastewater health independent definitely meeting immunocompromised london34nicecom model rat\n",
            "Topic 7:\n",
            "another less delta supply increased dangerous avoid bangladesh itself issues for causing process search desperate coercive baring sinovac managing evade\n",
            "Topic 8:\n",
            "who was mild omicron to not tell media that mandates will rapid it she some maybe flu says fake people\n",
            "Topic 9:\n",
            "covid cases vaccinated thailand bangkok phuket to unvaccinated pattaya samui fully post medicine daily related israel ayutthaya germany and information\n",
            "Topic 10:\n",
            "china immune todays article gates part bill zero read zerocovid 73 policy with borisjohnson listen western truly action significantly views\n",
            "Topic 11:\n",
            "7d ending plot qq ek pehal bp fr analyt ins color 2017 gisaid 200k analy fulllength spe aboriginal insi 435\n",
            "Topic 12:\n",
            "us or in with around those way can make leading whats life keep indicator someone casescapita our either break they\n",
            "Topic 13:\n",
            "the of been has in omicron with for variant last at days have and years news was week contagious hospital\n",
            "Topic 14:\n",
            "mask medical face schools full used offices in restaurants dispenser chief damage factories haven gyms affected term ice phone wondering\n",
            "Topic 15:\n",
            "covid by our from for insights county analytics and team 20220214 us population deaths cases confirmed per 1k in growth\n",
            "Topic 16:\n",
            "covidisnotover omicron wearamask visit fight prepare link party silent longcovidkids maskup glasses wearers mark hits getvaccinated black covidisairborne getboosted pattern\n",
            "Topic 17:\n",
            "variants top delta 15 sarscov2 circulating student arkansas cell surveillance variantdashboard in covid19updates alabama laboratory illinois deltaregion sequence policymakers lol\n",
            "Topic 18:\n",
            "so of the is two show spread not my hong omicron for kong doses report enough to hospitalization despite studies\n",
            "Topic 19:\n",
            "day amp usa help need there very evidence any strong among rebuttal natural immunity real 3rd reinfections mar boosted ba11\n",
            "Topic 20:\n",
            "the omicron to is of covid19 in and covid this for are it that ba2 be on as we from\n",
            "Topic 21:\n",
            "covid19 cases omicron new in the on of deaths today update reported india as coronavirus 2022 and hongkong daily total\n",
            "Topic 22:\n",
            "because my dr of with that the could we analysis has see people care new daily million cases director nih\n",
            "Topic 23:\n",
            "you it to that don give up get amp omicron just will going believe bc see he re milder as\n",
            "Topic 24:\n",
            "pm early record breaking late lockdowns track trace ave meal rishi glib didoing unlock thai queen breakingnews bar con un\n",
            "Topic 25:\n",
            "fort detrick americans 19 and pay co investigation report origin strange contracted disease years confirmed detric inconclusive fbi trial 38\n",
            "Topic 26:\n",
            "test via positive covid free tested 30 human testing newzealand based 2nd 19 kids result meanwhile for american shopping view\n",
            "Topic 27:\n",
            "stopcoviddeaths detrickas birthplaceinstitutiontruth thereof afterproblem saloma core dozens russiaukraineconflict anatomy surprising wellington jacinda forces accelerated delete position lasting 5476 nzherald\n",
            "Topic 28:\n",
            "recovered death1 trudeautyranny 27 from financial doubling coim freedumbconvoy2022 mental overnight smart totalitarianism condition box manage yesterdays fascism felt flutruckklan\n",
            "Topic 29:\n",
            "omicronvariant quite for guidance each older concerns sorry metrics participants capacity google announcements rationale breakthroughs till extensive discovery timely gm\n"
          ]
        }
      ]
    }
  ]
}